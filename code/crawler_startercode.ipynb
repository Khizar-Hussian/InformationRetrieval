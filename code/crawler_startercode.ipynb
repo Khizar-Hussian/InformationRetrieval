{
 "cells": [
  {
   "cell_type": "markdown",
   "metadata": {},
   "source": [
    "# Crawler\n",
    "\n",
    "This notebook contains started code structure for creating a crawler on single machine\n",
    "\n",
    "**Author:** Noshaba Nasir\n",
    "\n",
    "**Date:** 26/3/2021\n",
    "\n",
    "**Updated by:** <Write your name and Roll number here>\n",
    "    "
   ]
  },
  {
   "cell_type": "code",
   "execution_count": 4,
   "metadata": {},
   "outputs": [],
   "source": [
    "import os \n",
    "import random\n",
    "# Add any library to be imported here"
   ]
  },
  {
   "cell_type": "code",
   "execution_count": 3,
   "metadata": {},
   "outputs": [],
   "source": [
    "# Crawler Parameters\n",
    "BACKQUEUES= 3\n",
    "THREADS= BACKQUEUES*3\n",
    "FRONTQUEUES= 5\n",
    "WAITTIME= 15 ; # wait 15 seconds before fetching URLS from \n",
    "\n",
    "# Add any other global parameters here"
   ]
  },
  {
   "cell_type": "markdown",
   "metadata": {},
   "source": [
    "# FRONTIER\n",
    "\n",
    "Frontier should use the Mercator frontier design as discussed in lecture.\n",
    "\n",
    "Preferably it should be a class and should have the given functions.\n",
    "\n",
    "*prioritizer* function is a stub right now, it will return a random number  between 1 to f for given URL "
   ]
  },
  {
   "cell_type": "code",
   "execution_count": 8,
   "metadata": {
    "scrolled": true
   },
   "outputs": [],
   "source": [
    "class frontier:\n",
    "# add the code for frontier here\n",
    "# should have functions __init__, get_URL, add_URLs, add_to_backqueue\n",
    "    def __init__(self):\n",
    "        '''\n",
    "        Initializer\n",
    "        '''\n",
    "        None # replace this with your code\n",
    "        \n",
    "    # add more functions here\n",
    "\n",
    "\n",
    "\n",
    "def prioritizer(URL,f):\n",
    "    \"\"\"\n",
    "    Take URL and returns priority from 1 to F\n",
    "    Right now it like a stub function. \n",
    "    It will return a random number from 1 to f for given inputs. \n",
    "    \"\"\"\n",
    "    return random.randint(1,f)\n",
    "    "
   ]
  },
  {
   "cell_type": "markdown",
   "metadata": {},
   "source": [
    "# FILTER URLS\n",
    "\n",
    "Filter the URLS that are in robots.txt files of server and the have been already processed. "
   ]
  },
  {
   "cell_type": "code",
   "execution_count": 9,
   "metadata": {},
   "outputs": [],
   "source": [
    "# write code for filtering urls here "
   ]
  },
  {
   "cell_type": "markdown",
   "metadata": {},
   "source": [
    "## ---------------------Write any other codes/data require to run the crawler above this cell-----------"
   ]
  },
  {
   "cell_type": "markdown",
   "metadata": {},
   "source": [
    "# Run Crawler"
   ]
  },
  {
   "cell_type": "code",
   "execution_count": 13,
   "metadata": {},
   "outputs": [],
   "source": [
    "# Theard task\n",
    "def crawler_thread_task():\n",
    "    None # define individual crawler thread's function here as studies in class"
   ]
  },
  {
   "cell_type": "code",
   "execution_count": 14,
   "metadata": {},
   "outputs": [],
   "source": [
    "# intialize every thing "
   ]
  },
  {
   "cell_type": "code",
   "execution_count": 15,
   "metadata": {},
   "outputs": [],
   "source": [
    "# start the threads\n",
    "\n"
   ]
  },
  {
   "cell_type": "code",
   "execution_count": null,
   "metadata": {},
   "outputs": [],
   "source": []
  }
 ],
 "metadata": {
  "kernelspec": {
   "display_name": "Python 3",
   "language": "python",
   "name": "python3"
  },
  "language_info": {
   "codemirror_mode": {
    "name": "ipython",
    "version": 3
   },
   "file_extension": ".py",
   "mimetype": "text/x-python",
   "name": "python",
   "nbconvert_exporter": "python",
   "pygments_lexer": "ipython3",
   "version": "3.7.6"
  }
 },
 "nbformat": 4,
 "nbformat_minor": 4
}
